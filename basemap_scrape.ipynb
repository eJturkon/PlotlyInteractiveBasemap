{
 "cells": [
  {
   "cell_type": "code",
   "execution_count": 13,
   "metadata": {},
   "outputs": [],
   "source": [
    "import time\n",
    "from selenium import webdriver\n",
    "from selenium.webdriver.support.ui import Select\n",
    "from selenium.webdriver.chrome.service import Service\n",
    "from webdriver_manager.chrome import ChromeDriverManager\n",
    "from selenium.webdriver.common.by import By"
   ]
  },
  {
   "cell_type": "markdown",
   "metadata": {},
   "source": [
    "### **Data Scrape**\n",
    "**Using selenium to scrape all sections of [GMTED2010]('https://www.usgs.gov/coastal-changes-and-impacts/gmted2010') from [Earth Explorer]('https://earthexplorer.usgs.gov/')**\n",
    "###### sleep times included where selenium works faster than chrome, depending on your device and network more sleep time may be required"
   ]
  },
  {
   "cell_type": "code",
   "execution_count": 14,
   "metadata": {},
   "outputs": [],
   "source": [
    "# create selenium istance\n",
    "\n",
    "website = \"https://earthexplorer.usgs.gov/\"\n",
    "driver = webdriver.Chrome()\n",
    "driver.maximize_window()\n",
    "driver.get(website)"
   ]
  },
  {
   "cell_type": "code",
   "execution_count": 15,
   "metadata": {},
   "outputs": [],
   "source": [
    "# click data tab\n",
    "\n",
    "el = driver.find_element(By.XPATH, value='''//ul/li[@id=\"authMenuLink\"]/a''')\n",
    "el.click()"
   ]
  },
  {
   "cell_type": "code",
   "execution_count": 16,
   "metadata": {},
   "outputs": [],
   "source": [
    "# input username\n",
    "\n",
    "el = driver.find_element(By.XPATH, value='''//div/input[@name=\"username\"]''')\n",
    "el.send_keys('<your_username>')"
   ]
  },
  {
   "cell_type": "code",
   "execution_count": 17,
   "metadata": {},
   "outputs": [],
   "source": [
    "# input password\n",
    "\n",
    "el = driver.find_element(By.XPATH, value='''//div/input[@name=\"password\"]''')\n",
    "el.send_keys('<your_password>')"
   ]
  },
  {
   "cell_type": "code",
   "execution_count": 18,
   "metadata": {},
   "outputs": [],
   "source": [
    "# click login button\n",
    "\n",
    "el = driver.find_element(By.XPATH, value='''//input[@id=\"loginButton\"]''')\n",
    "el.click()"
   ]
  },
  {
   "cell_type": "code",
   "execution_count": 19,
   "metadata": {},
   "outputs": [],
   "source": [
    "# click data tab\n",
    "\n",
    "el = driver.find_element(By.XPATH, value='''//div/div[contains(text(), \"Data Sets\")]''')\n",
    "el.click()"
   ]
  },
  {
   "cell_type": "code",
   "execution_count": 20,
   "metadata": {},
   "outputs": [],
   "source": [
    "# click digital elevation drop down\n",
    "\n",
    "time.sleep(2)\n",
    "el = driver.find_element(By.XPATH, value='''//div/strong[contains(text(), \"Digital Elevation\")]''')\n",
    "el.click()"
   ]
  },
  {
   "cell_type": "code",
   "execution_count": 21,
   "metadata": {},
   "outputs": [],
   "source": [
    "# select GMTED2012\n",
    "\n",
    "el = driver.find_element(By.XPATH, value='''//div/label[contains(text(), \"GMTED2010\")]''')\n",
    "el.click()"
   ]
  },
  {
   "cell_type": "code",
   "execution_count": 22,
   "metadata": {},
   "outputs": [],
   "source": [
    "# click results\n",
    "\n",
    "time.sleep(3)\n",
    "el = driver.find_elements(By.XPATH, value='''//input[@title=\"Results\"]''')\n",
    "el[1].click()"
   ]
  },
  {
   "cell_type": "code",
   "execution_count": 23,
   "metadata": {},
   "outputs": [],
   "source": [
    "def scrape_page():\n",
    "    time.sleep(2)\n",
    "    result_table = driver.find_elements(By.XPATH, value='''//table[@class=\"resultPageTable\"]/tbody/tr''')\n",
    "    for element in result_table:\n",
    "\n",
    "        time.sleep(1)\n",
    "        after = element.find_element(By.XPATH, value='''./td[@class=\"resultRowContent\"]/ul/li/div[@class=\"iconContainer\"]/a[@class=\"download\"]''')\n",
    "        after.click()\n",
    "\n",
    "        time.sleep(1)\n",
    "        el = driver.find_elements(By.XPATH, value='''//div[@id=\"optionsContainer\"]/div/div[@class=\"downloadButtons\"]''')\n",
    "        try: el[2].click()\n",
    "        except: el[0].click()\n",
    "\n",
    "        time.sleep(1)\n",
    "        el = driver.find_elements(By.XPATH, value='''//div/button[@title=\"Close\"]''')\n",
    "        el[2].click()"
   ]
  },
  {
   "cell_type": "code",
   "execution_count": 24,
   "metadata": {},
   "outputs": [],
   "source": [
    "# takes ~ 6min to scrape\n",
    "page_nums = 11\n",
    "for i in range(page_nums-1):\n",
    "\n",
    "    scrape_page()\n",
    "    # go to next page\n",
    "    el = driver.find_element(By.XPATH, value=f'''//div/a[@id=\"{i+2}_5e83a1f36d8572da\"]''')\n",
    "    el.click()\n",
    "    time.sleep(1)"
   ]
  },
  {
   "cell_type": "code",
   "execution_count": 25,
   "metadata": {},
   "outputs": [],
   "source": [
    "driver.quit()"
   ]
  },
  {
   "cell_type": "markdown",
   "metadata": {},
   "source": [
    "---\n",
    "**move all files to desired data directory with**:\n",
    "\n",
    "`$mv <path to downloads directory>/GMTED2010* <desired data directory>`\n",
    "\n",
    "---\n",
    "**unzip all files in data directory with**:\n",
    "\n",
    "`$find . -type f -name '*.zip' -exec unzip {} \\;`"
   ]
  },
  {
   "cell_type": "code",
   "execution_count": null,
   "metadata": {},
   "outputs": [],
   "source": []
  }
 ],
 "metadata": {
  "kernelspec": {
   "display_name": "base",
   "language": "python",
   "name": "python3"
  },
  "language_info": {
   "codemirror_mode": {
    "name": "ipython",
    "version": 3
   },
   "file_extension": ".py",
   "mimetype": "text/x-python",
   "name": "python",
   "nbconvert_exporter": "python",
   "pygments_lexer": "ipython3",
   "version": "3.11.6"
  }
 },
 "nbformat": 4,
 "nbformat_minor": 2
}
