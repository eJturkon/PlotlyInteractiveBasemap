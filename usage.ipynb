{
 "cells": [
  {
   "cell_type": "code",
   "execution_count": 5,
   "metadata": {},
   "outputs": [],
   "source": [
    "from world_3d_basemap import scrape_basemap_data, show_basemap"
   ]
  },
  {
   "cell_type": "markdown",
   "metadata": {},
   "source": [
    "# **3D Interactive Basemap** | Plotly\n",
    "\n",
    "This notebook demonstrates the usage of the `scrape_basemap_data` and `scrape_basemap_data` methods from [world_3d_basemap.py]()."
   ]
  },
  {
   "cell_type": "code",
   "execution_count": null,
   "metadata": {},
   "outputs": [],
   "source": [
    "downloads_directory = '/Users/evanturkon/Downloads/'\n",
    "data_directory = './data'\n",
    "ee_username, ee_password = 'ejturkon@gmail.com', 'GeckaMoe!15!15!15'\n",
    "scrape_basemap_data(downloads_directory, data_directory, ee_username, ee_password)\n",
    "show_basemap(data_directory, pix_per_tile=50)"
   ]
  }
 ],
 "metadata": {
  "kernelspec": {
   "display_name": "geo_env",
   "language": "python",
   "name": "python3"
  },
  "language_info": {
   "codemirror_mode": {
    "name": "ipython",
    "version": 3
   },
   "file_extension": ".py",
   "mimetype": "text/x-python",
   "name": "python",
   "nbconvert_exporter": "python",
   "pygments_lexer": "ipython3",
   "version": "3.12.0"
  }
 },
 "nbformat": 4,
 "nbformat_minor": 2
}
